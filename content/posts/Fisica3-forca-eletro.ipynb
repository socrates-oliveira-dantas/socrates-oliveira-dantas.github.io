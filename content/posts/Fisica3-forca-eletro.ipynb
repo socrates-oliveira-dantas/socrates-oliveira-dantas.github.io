{
 "cells": [
  {
   "cell_type": "markdown",
   "metadata": {},
   "source": [
    "# <font color=\"blue\"> Força eletrostática entre partículas pontuais: </font>\n",
    "Supondo que o nosso sistema de partículas pontuais sejam constituído por duas cargas pontuais $q_i$ e $q_j$ separadas uma da outra como na figura abaixo. Além disso, vamos supor que não exista nenhum outro agente externo atuando sobre estas partículas - sistema isolado. A força que uma partícula sente devido à presença da outra pode ser representada por um ***<font color=\"red\">vetor</font>*** através da seguinte expressão:"
   ]
  },
  {
   "cell_type": "markdown",
   "metadata": {},
   "source": [
    "$\\vec{F}_{ij} = - \\frac{1}{4\\pi \\epsilon_0} \\frac{q_i \\, q_j}{r_{ij}^3} \\, \\vec{r}_{ij} = - \\frac{1}{4\\pi \\epsilon_0} \\frac{q_i \\, q_j}{r_{ij}^2} \\, \\hat{r}_{ij}$,"
   ]
  },
  {
   "cell_type": "markdown",
   "metadata": {},
   "source": [
    "na expressão vetorial acima identificamos:<br>\n",
    "* $\\vec{F}_{ij}$ é o vetor força que a partícula pontual carregada $i$ ***<font color=\"red\">sente</font>*** devido à ***<font color=\"red\">presença</font>*** da partícula pontual carregada $j$ em Newtons ($N$),<br>\n",
    "* o sinal negativo (<font color=\"red\">$-$</font>) logo após a igualdade é muito importante e não deve ser menosprezado na expressão vetorial, <bf>\n",
    "* $q_i$ e $q_j$ são os valores (<font color=\"red\">incluindo sinais</font>) das cargas pontuais $i$ e $j$ em unidades de Coulomb ($C$),<br>\n",
    "* $\\vec{r}_{ij}$ é o vetor posição que inicia na carga pontual $i$ e termina na carga pontual $j$,<br>\n",
    "* $r_{ij}$ é o módulo do vetor posição $\\vec{r}_{ij}$ em metros ($m$),<br>\n",
    "* $\\epsilon_0$ é a permissividade elétrica do váculo e possui valor $8,854187817\\times 10^{-12} \\frac{C^{-2}}{N \\, m^2}$,<br>\n",
    "* $\\hat{r}_{ij}=\\frac{\\vec{r}_{ij}}{r_{ij}}$ é o vetor unitário na direção e sentido de $i$ para $j$.<br>"
   ]
  },
  {
   "cell_type": "markdown",
   "metadata": {},
   "source": [
    "A figura abaixo ilustra as cargas pontuais, os vetores posição das partículas $i$ e $j$ bem como o vetor posição entre estas partículas em três dimensões. "
   ]
  },
  {
   "cell_type": "markdown",
   "metadata": {},
   "source": [
    "![Cargas]({attach}./cargas-pont.jpg)"
   ]
  },
  {
   "cell_type": "markdown",
   "metadata": {},
   "source": [
    "Onde $\\vec{r}_i = x_i \\, \\hat{i} + y_i \\, \\hat{j} + z_i \\, \\hat{k}$ e $\\vec{r}_j = x_j \\, \\hat{i} + y_j \\, \\hat{j} + z_j \\, \\hat{k}$ - representados pelos vetores em azul na figura acima - são posições fixas das cargas $q_i$ e $q_j$, respectivamente. Sendo $\\hat{i}$, $\\hat{j}$ e $\\hat{k}$ vetores unitários direcionados ao longo dos eixos cartesianos $x$, $y$ e $z$ positivos. Além disso: $x_i$, $y_i$, $z_i$, $x_j$, $y_j$ e $z_j$ podem ser negativos, nulos ou positivos."
   ]
  },
  {
   "cell_type": "markdown",
   "metadata": {},
   "source": [
    "Pela figura acima podemos com facilidade perceber que, via regra do paralelograma: $\\vec{r}_i + \\vec{r}_{ij} = \\vec{r}_j$, ou ainda $\\vec{r}_{ij} = \\vec{r}_j - \\vec{r}_i$ - representado pelo vetor em vermelho na figura acima.  Assim, este último vetor pode ser escrito como:"
   ]
  },
  {
   "cell_type": "markdown",
   "metadata": {},
   "source": [
    "$\\vec{r}_{ij} = (x_j - x_i) \\, \\hat{i} + (y_j - y_i) \\, \\hat{j} + (z_j - z_i) \\, \\hat{k}$,<br>\n",
    "<br>\n",
    "onde:<br>\n",
    "<br>\n",
    "$r_{ij} = \\sqrt{(x_j - x_i)^2 + (y_j - y_i)^2 + (z_j - z_i)^2}$<br>\n",
    "<br>\n",
    "é sua intensidade (magnitude)."
   ]
  },
  {
   "cell_type": "markdown",
   "metadata": {},
   "source": [
    "Além disso, pela terceira lei de Newton, sabemos que:"
   ]
  },
  {
   "cell_type": "markdown",
   "metadata": {},
   "source": [
    "$\\vec{F}_{ij} = - \\vec{F}_{ji}$,"
   ]
  },
  {
   "cell_type": "markdown",
   "metadata": {},
   "source": [
    "ou seja, $\\vec{F}_{ji}$ representa a força que a carga pontual $q_j$ sente devido à presença da carga pontual $q_i$. Significa dizer que: ambas as forças possuem <font color=\"red\">mesma intensidade</font> (magnitude), <font color=\"red\">mesma direção</font> mas <font color=\"red\">sentidos opostos</font>, observe nas figuras a seguir."
   ]
  },
  {
   "cell_type": "markdown",
   "metadata": {},
   "source": [
    "Se as cargas $q_i$ e $q_j$ possuirem mesmo sinal (ambas $+$ ou $-$) as forças (em verde) são de repulsão e podem ser reprentadas - sobre cada partícula como:"
   ]
  },
  {
   "cell_type": "markdown",
   "metadata": {},
   "source": [
    "![Cargas-repulsão]({attach}./cargas-pont-rep.jpg)"
   ]
  },
  {
   "cell_type": "markdown",
   "metadata": {},
   "source": [
    "Se as cargas $q_i$ e $q_j$ possuirem sinais opostos ($+$ e $-$ ou $-$ e $+$) as forças (em verde) são de atração e podem ser reprentadas - sobre cada partícula como:"
   ]
  },
  {
   "cell_type": "markdown",
   "metadata": {},
   "source": [
    "![Cargas-atração]({attach}./cargas-pont-atr.jpg)"
   ]
  }
 ],
 "metadata": {
  "kernelspec": {
   "display_name": "Python 2",
   "language": "python",
   "name": "python2"
  },
  "language_info": {
   "codemirror_mode": {
    "name": "ipython",
    "version": 2
   },
   "file_extension": ".py",
   "mimetype": "text/x-python",
   "name": "python",
   "nbconvert_exporter": "python",
   "pygments_lexer": "ipython2",
   "version": "2.7.15"
  }
 },
 "nbformat": 4,
 "nbformat_minor": 2
}
