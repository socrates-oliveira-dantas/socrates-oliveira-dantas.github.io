{
 "cells": [
  {
   "cell_type": "markdown",
   "metadata": {},
   "source": [
    "# Força eletrostática entre duas partículas pontuais:\n",
    "Esta força pode ser representada por um vetor através da seguinte expressão:"
   ]
  },
  {
   "cell_type": "markdown",
   "metadata": {},
   "source": [
    "$\\vec{F}_{ij} = - \\frac{1}{4\\pi \\epsilon_0} \\frac{q_i q_j}{r_{ij}^3} \\, \\vec{r}_{ij}$"
   ]
  },
  {
   "cell_type": "markdown",
   "metadata": {},
   "source": [
    "na expressão vetorial acima identificamos:<br>\n",
    "$\\vec{F}_{ij}$ é o vetor força que a partícula pontual carregada $i$ sente devido à presença da partícula pontual carregada $j$ em Newtons ($N$),<br>\n",
    "$q_i$ e $q_j$ são os valores (incluindo sinais) das cargas pontuais $i$ e $j$ em unidades de Coulomb ($C$),<br>\n",
    "$\\vec{r}_{ij}$ é o vetor posição que inicia na carga pontual $i$ e termina na carga pontual $j$,<br>\n",
    "$r_{ij}$ é o módulo do vetor posição $\\vec{r}_{ij}$ em metros ($m$),<br>\n",
    "$\\epsilon_0$ é a permissividade elétrica do váculo e possui valor $8,854187817\\times 10^{-12} \\frac{C^{-2}}{N \\, m^2}$.<br>"
   ]
  },
  {
   "cell_type": "markdown",
   "metadata": {},
   "source": [
    "A figura abaixo ilustra as cargas pontuais, os vetores posição das partículas $i$ e $j$ bem como o vetor posição entre estas partículas em três dimensões. "
   ]
  },
  {
   "cell_type": "markdown",
   "metadata": {},
   "source": [
    "![Cargas]({attach}./cargas-pont.png)"
   ]
  },
  {
   "cell_type": "markdown",
   "metadata": {},
   "source": [
    "Pela figura acima podemos perceber com facilidade que: $\\vec{r}_i + \\vec{r}_{ij} = \\vec{r}_j$, ou ainda $\\vec{r}_{ij} = \\vec{r}_j - \\vec{r}_i$. Estes três vetores podem possuir componentes ao longo dos três eixos cartesianos $x$, $y$ e $z$."
   ]
  }
 ],
 "metadata": {
  "kernelspec": {
   "display_name": "Python 2",
   "language": "python",
   "name": "python2"
  },
  "language_info": {
   "codemirror_mode": {
    "name": "ipython",
    "version": 2
   },
   "file_extension": ".py",
   "mimetype": "text/x-python",
   "name": "python",
   "nbconvert_exporter": "python",
   "pygments_lexer": "ipython2",
   "version": "2.7.15"
  }
 },
 "nbformat": 4,
 "nbformat_minor": 2
}
