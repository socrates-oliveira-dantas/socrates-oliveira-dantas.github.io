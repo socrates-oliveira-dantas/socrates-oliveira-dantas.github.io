{
 "cells": [
  {
   "cell_type": "markdown",
   "metadata": {},
   "source": [
    "# <font color=\"blue\"> Força eletrostática entre cargas pontuais: </font>\n",
    "## <font color=\"blue\"> Sistema com duas cargas:</font>\n",
    "Supondo que o nosso sistema seja constituído por duas cargas pontuais $q_i$ e $q_j$ separadas uma da outra como na figura abaixo. Além disso, vamos supor que não exista nenhum outro agente externo atuando sobre estas cargas - sistema isolado. A força que uma carga sente devido à presença da outra pode ser representada por um ***<font color=\"red\">vetor</font>*** através da seguinte expressão:"
   ]
  },
  {
   "cell_type": "markdown",
   "metadata": {},
   "source": [
    "$\\vec{F}_{ij} = - \\frac{1}{4\\pi \\epsilon_0} \\frac{q_i \\, q_j}{r_{ij}^3} \\, \\vec{r}_{ij} = - \\frac{1}{4\\pi \\epsilon_0} \\frac{q_i \\, q_j}{r_{ij}^2} \\, \\hat{r}_{ij}$,"
   ]
  },
  {
   "cell_type": "markdown",
   "metadata": {},
   "source": [
    "na expressão vetorial acima identificamos:<br>\n",
    "* $\\vec{F}_{ij}$ é o vetor força que a carga pontual $i$ ***<font color=\"red\">sente</font>*** devido à ***<font color=\"red\">presença</font>*** da carga pontual $j$ em Newtons ($N$),<br>\n",
    "* o sinal negativo (<font color=\"red\">$-$</font>) logo após a igualdade é muito importante e não deve ser menosprezado, <bf>\n",
    "* $q_i$ e $q_j$ são os valores (<font color=\"red\">incluindo sinais</font>) das cargas pontuais $i$ e $j$ em unidades de Coulomb ($C$),<br>\n",
    "* $\\vec{r}_{ij}$ é o vetor posição que inicia na carga pontual $i$ e termina na carga pontual $j$,<br>\n",
    "* $r_{ij}$ é o módulo do vetor posição $\\vec{r}_{ij}$ em metros ($m$),<br>\n",
    "* $\\epsilon_0$ é a permissividade elétrica do váculo e possui valor $8,854187817\\times 10^{-12} \\frac{C^{2}}{N \\, m^2}$,<br>\n",
    "* $\\hat{r}_{ij}=\\frac{\\vec{r}_{ij}}{r_{ij}}$ é o vetor unitário na direção e sentido de $i$ para $j$.<br>"
   ]
  },
  {
   "cell_type": "markdown",
   "metadata": {},
   "source": [
    "Esta expressão tem uma forma que é conhecida como de pares de partículas, quando comparamos com forças gravitacionais a dependência com a distância entre as partículas é a mesma. As diferenças estão associadas às constantes envolvidas, a troca de carga por massa de cada partícula, bem como ao fato das forças gravitacionais serem apenas de atração.<br>"
   ]
  },
  {
   "cell_type": "markdown",
   "metadata": {},
   "source": [
    "A figura abaixo ilustra as cargas pontuais, os vetores posição das partículas $i$ e $j$ bem como o vetor posição entre elas em três dimensões. "
   ]
  },
  {
   "cell_type": "markdown",
   "metadata": {},
   "source": [
    "![Cargas]({attach}./cargas-pont.jpg)"
   ]
  },
  {
   "cell_type": "markdown",
   "metadata": {},
   "source": [
    "Onde $\\vec{r}_i = x_i \\, \\hat{i} + y_i \\, \\hat{j} + z_i \\, \\hat{k}$ e $\\vec{r}_j = x_j \\, \\hat{i} + y_j \\, \\hat{j} + z_j \\, \\hat{k}$ - representados pelos vetores em azul na figura acima - são posições fixas das cargas $q_i$ e $q_j$, respectivamente. Sendo $\\hat{i}$, $\\hat{j}$ e $\\hat{k}$ vetores unitários direcionados ao longo dos eixos cartesianos $x$, $y$ e $z$ positivos. Além disso: $x_i$, $y_i$, $z_i$, $x_j$, $y_j$ e $z_j$ podem ser negativos, nulos ou positivos."
   ]
  },
  {
   "cell_type": "markdown",
   "metadata": {},
   "source": [
    "Pela figura acima podemos com facilidade perceber que, via regra do paralelograma: $\\vec{r}_i + \\vec{r}_{ij} = \\vec{r}_j$, ou ainda $\\vec{r}_{ij} = \\vec{r}_j - \\vec{r}_i$ - representado pelo vetor em vermelho na figura acima.  Assim, este último vetor pode ser escrito como:"
   ]
  },
  {
   "cell_type": "markdown",
   "metadata": {},
   "source": [
    "$\\vec{r}_{ij} = (x_j - x_i) \\, \\hat{i} + (y_j - y_i) \\, \\hat{j} + (z_j - z_i) \\, \\hat{k}$,<br>\n",
    "<br>\n",
    "onde:<br>\n",
    "<br>\n",
    "$r_{ij} = \\sqrt{(x_j - x_i)^2 + (y_j - y_i)^2 + (z_j - z_i)^2}$<br>\n",
    "<br>\n",
    "é sua intensidade (magnitude)."
   ]
  },
  {
   "cell_type": "markdown",
   "metadata": {},
   "source": [
    "Além disso, pela terceira lei de Newton, sabemos que:"
   ]
  },
  {
   "cell_type": "markdown",
   "metadata": {},
   "source": [
    "$\\vec{F}_{ij} = - \\vec{F}_{ji}$,"
   ]
  },
  {
   "cell_type": "markdown",
   "metadata": {},
   "source": [
    "ou seja, $\\vec{F}_{ji}$ representa a força que a carga pontual $q_j$ sente devido à presença da carga pontual $q_i$. Significa dizer que: ambas as forças possuem <font color=\"red\">mesma intensidade</font> (magnitude), <font color=\"red\">mesma direção</font> mas <font color=\"red\">sentidos opostos</font>, observe nas figuras a seguir."
   ]
  },
  {
   "cell_type": "markdown",
   "metadata": {},
   "source": [
    "Se as cargas $q_i$ e $q_j$ possuirem mesmo sinal (ambas $+$ ou $-$) as forças (em verde) são de repulsão e podem ser reprentadas - sobre cada carga como:"
   ]
  },
  {
   "cell_type": "markdown",
   "metadata": {},
   "source": [
    "![Cargas-repulsão]({attach}./cargas-pont-rep.jpg)"
   ]
  },
  {
   "cell_type": "markdown",
   "metadata": {},
   "source": [
    "Se as cargas $q_i$ e $q_j$ possuirem sinais opostos ($+$ e $-$ ou $-$ e $+$) as forças (em verde) são de atração e podem ser reprentadas - sobre cada carga como:"
   ]
  },
  {
   "cell_type": "markdown",
   "metadata": {},
   "source": [
    "![Cargas-atração]({attach}./cargas-pont-atr.jpg)"
   ]
  },
  {
   "cell_type": "markdown",
   "metadata": {},
   "source": [
    "## Aplicação:"
   ]
  },
  {
   "cell_type": "markdown",
   "metadata": {},
   "source": [
    "Uma carga pontual $q_1=0,5\\mu C$ está localizada na origem ($0$,$0$,$0$) de um sistema cartesiano, uma segunda carga pontual $q_2=0,6\\mu C$ está localizada no vértice ($a$,$a$,$a$) de um cubo de aresta $a=0,3m$. Determine o vetor força que age sobre a carga $q_2$."
   ]
  },
  {
   "cell_type": "markdown",
   "metadata": {},
   "source": [
    "### Resolução:"
   ]
  },
  {
   "cell_type": "markdown",
   "metadata": {},
   "source": [
    "Na busca por solução de um problema em Física é importante fazermos um desenho que ilustre a situação envolvida no enunciado, abaixo temos um esquema de como as cargas pontuais estão dispostas no espaço:"
   ]
  },
  {
   "cell_type": "markdown",
   "metadata": {},
   "source": [
    "![Problema]({attach}./cargas-pont-prob.jpg)"
   ]
  },
  {
   "cell_type": "markdown",
   "metadata": {},
   "source": [
    "Assim, a força que a carga pontual $2$ sente devido a presença da carga pontual $1$ pode ser escrita como:\n",
    "$\\vec{F}_{21} = - \\frac{1}{4 \\pi \\epsilon_0} \\frac{q_1 \\, q_2}{r_{21}^2} \\hat{r}_{21}$<br>"
   ]
  },
  {
   "cell_type": "markdown",
   "metadata": {},
   "source": [
    "Por outro lado:<br>\n",
    "$\\vec{r}_{21} = \\vec{r}_1 - \\vec{r}_2$<br>\n",
    "$\\vec{r}_{21} = 0 \\, \\hat{i} + 0 \\, \\hat{j} + 0 \\, \\hat{k} - (a \\, \\hat{i} + a \\, \\hat{j} + a \\, \\hat{k})$<br>\n",
    "$\\vec{r}_{21} = - a \\, (\\hat{i} + \\hat{j} + \\hat{k})$<br>\n",
    "$r_{21} = a \\, \\sqrt{3} \\rightarrow r_{21}^2 = 3 \\, a^2$<br>\n",
    "$\\hat{r}_{21} = \\frac{\\vec{r}_{21}}{r_{21}} = \\frac{-1}{\\sqrt{3}} \\, (\\hat{i} + \\hat{j} + \\hat{k})$<br>"
   ]
  },
  {
   "cell_type": "markdown",
   "metadata": {},
   "source": [
    "Logo:<br>\n",
    "$\\vec{F}_{21} = - \\frac{1}{4\\pi \\epsilon_0} \\frac{q_1 \\, q_2}{3 \\, a^2} \\left[ \\frac{-1}{\\sqrt{3}} (\\hat{i} + \\hat{j} + \\hat{k}) \\right] = \\frac{1}{4\\pi \\epsilon_0} \\frac{q_1 \\, q_2}{\\sqrt{27} \\, a^2} (\\hat{i} + \\hat{j} + \\hat{k})$"
   ]
  },
  {
   "cell_type": "markdown",
   "metadata": {},
   "source": [
    "$\\vec{F}_{21} = \\frac{1}{4\\pi \\, \\times 8,854187817 \\times 10^{-12} \\left( \\frac{C^2}{N m^2} \\right)} \\frac{0,5\\times 10^{-6} (C) \\times 0,6 \\times 10^{-6} (C)}{\\sqrt{27} \\times (0,3)^2 (m^2)} \\, (\\hat{i} + \\hat{j} + \\hat{k}) = \\frac{1}{4\\pi \\, \\times 8,854187817} \\frac{0,3}{\\sqrt{27} \\times 9 \\times 10^{-2}} \\, (\\hat{i} + \\hat{j} + \\hat{k}) \\, (N)$"
   ]
  },
  {
   "cell_type": "markdown",
   "metadata": {},
   "source": [
    "Efetuando as contas e considerando $\\pi=3,14159265359$, obtemos para o vetor força que a carga pontual $2$ sente devido à presença da carga pontual $1$:"
   ]
  },
  {
   "cell_type": "markdown",
   "metadata": {},
   "source": [
    "<font color=\"blue\">$\\vec{F}_{21} \\simeq 5,7655\\times 10^{-3} (\\hat{i} + \\hat{j} + \\hat{k}) \\, (N)$</font>"
   ]
  },
  {
   "cell_type": "markdown",
   "metadata": {},
   "source": [
    "O resultado final para este vetor nos indica que a força é de repulsão (uma vez que ambas possuem mesmo sinal) apontada ao longo da diagonal principal do cubo, com intensidade (magnitude) de aproximadamente <font color=\"blue\">$\\sqrt{3} \\times 5,7655 \\times 10^{-3} \\, (N) \\simeq 9,9861 \\times 10^{-3} \\, (N)$</font>."
   ]
  },
  {
   "cell_type": "markdown",
   "metadata": {},
   "source": [
    "Fica claro que $\\vec{F}_{12} = - \\vec{F}_{21} \\simeq - 5,7655\\times 10^{-3} (\\hat{i} + \\hat{j} + \\hat{k}) \\, (N)$."
   ]
  },
  {
   "cell_type": "markdown",
   "metadata": {},
   "source": [
    "#### <font color=\"blue\">A pergunta que surge naturalmente é: como tratamos o problema de um sistema constituido por mais de duas cargas pontuais?</font>"
   ]
  }
 ],
 "metadata": {
  "kernelspec": {
   "display_name": "Python 2",
   "language": "python",
   "name": "python2"
  },
  "language_info": {
   "codemirror_mode": {
    "name": "ipython",
    "version": 2
   },
   "file_extension": ".py",
   "mimetype": "text/x-python",
   "name": "python",
   "nbconvert_exporter": "python",
   "pygments_lexer": "ipython2",
   "version": "2.7.15"
  }
 },
 "nbformat": 4,
 "nbformat_minor": 2
}
